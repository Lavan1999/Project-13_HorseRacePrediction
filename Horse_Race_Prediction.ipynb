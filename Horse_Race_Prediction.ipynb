{
  "nbformat": 4,
  "nbformat_minor": 0,
  "metadata": {
    "colab": {
      "provenance": [],
      "authorship_tag": "ABX9TyOnl54aNx8eiKitwhMimIJM",
      "include_colab_link": true
    },
    "kernelspec": {
      "name": "python3",
      "display_name": "Python 3"
    },
    "language_info": {
      "name": "python"
    }
  },
  "cells": [
    {
      "cell_type": "markdown",
      "metadata": {
        "id": "view-in-github",
        "colab_type": "text"
      },
      "source": [
        "<a href=\"https://colab.research.google.com/github/Lavan1999/Project-13_HorseRacePrediction/blob/main/Horse_Race_Prediction.ipynb\" target=\"_parent\"><img src=\"https://colab.research.google.com/assets/colab-badge.svg\" alt=\"Open In Colab\"/></a>"
      ]
    },
    {
      "cell_type": "code",
      "execution_count": null,
      "metadata": {
        "id": "qhZIu-AjpRd1"
      },
      "outputs": [],
      "source": [
        "import os\n",
        "\n",
        "# For managing warning messages.\n",
        "import warnings\n",
        "\n",
        "# Report\n",
        "from dataprep.eda import create_report\n",
        "\n",
        "# Data cleaning\n",
        "import pandas as pd\n",
        "import numpy as np\n",
        "import ast           # To convert string to dictionary\n",
        "import datetime\n",
        "# NLP\n",
        "import spacy\n",
        "\n",
        "# Establishing database and file system connections.\n",
        "from google.colab import drive\n",
        " #SQL lit\n",
        "import pymongo\n",
        "\n",
        "# Statistical analysis and hypothesis testing.\n",
        "from scipy import stats\n",
        "\n",
        "# Visualization / EDA\n",
        "import plotly.graph_objects as go\n",
        "import plotly.express as px\n",
        "import matplotlib.pyplot as plt\n",
        "import seaborn as sns\n",
        "from sklearn.tree import plot_tree\n",
        "\n",
        "# Encoding categorical variables and scaling numerical features.\n",
        "from sklearn.preprocessing import LabelEncoder, OneHotEncoder, OrdinalEncoder, MinMaxScaler, StandardScaler\n",
        "\n",
        "# Saving trained models for future deployment.\n",
        "import pickle\n",
        "\n",
        "# Balancing the data to address class imbalance.\n",
        "from imblearn.under_sampling import NearMiss\n",
        "from imblearn.over_sampling import SMOTE\n",
        "from imblearn.combine import SMOTETomek\n",
        "from sklearn.utils import resample\n",
        "\n",
        "# For dimensionality reduction and feature extraction.\n",
        "from sklearn.decomposition import PCA\n",
        "\n",
        "# Split data for training and testing & Optimizing model parameters\n",
        "from sklearn.model_selection import train_test_split, GridSearchCV\n",
        "\n",
        "# Machine Learning : Identifying algorithms/Model\n",
        "from lazypredict.Supervised import LazyRegressor, LazyClassifier\n",
        "\n",
        "# Machine Learning : Training\n",
        "from xgboost import plot_importance\n",
        "# Regression\n",
        "import statsmodels.api as sm\n",
        "from sklearn.ensemble import GradientBoostingRegressor\n",
        "from xgboost import XGBRegressor\n",
        "# Classification\n",
        "from sklearn.ensemble import GradientBoostingClassifier\n",
        "from xgboost import XGBClassifier\n",
        "from lightgbm import LGBMClassifier\n",
        "# Cluster\n",
        "from sklearn.cluster import KMeans\n",
        "\n",
        "# Machine Learning : Evaluation\n",
        "from sklearn.metrics import mean_squared_error, r2_score # Regression\n",
        "from sklearn.metrics import accuracy_score, precision_score, recall_score, confusion_matrix,\\\n",
        "ConfusionMatrixDisplay, classification_report # Classification"
      ]
    }
  ]
}